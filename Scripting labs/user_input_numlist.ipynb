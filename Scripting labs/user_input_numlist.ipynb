{
 "cells": [
  {
   "cell_type": "markdown",
   "metadata": {},
   "source": [
    "##### initiate empty list to hold user input and sum value of zero"
   ]
  },
  {
   "cell_type": "code",
   "execution_count": 1,
   "metadata": {},
   "outputs": [],
   "source": [
    "user_list = []\n",
    "list_sum = 0"
   ]
  },
  {
   "cell_type": "markdown",
   "metadata": {},
   "source": [
    "##### seek user input for ten numbers"
   ]
  },
  {
   "cell_type": "code",
   "execution_count": 2,
   "metadata": {},
   "outputs": [
    {
     "name": "stdout",
     "output_type": "stream",
     "text": [
      "Enter any 2-digit number: 32\n",
      "Enter any 2-digit number: 23\n",
      "Enter any 2-digit number: 45\n",
      "Enter any 2-digit number: 76\n",
      "Enter any 2-digit number: 78\n",
      "Enter any 2-digit number: 97\n",
      "Enter any 2-digit number: 80\n",
      "Enter any 2-digit number: 56\n",
      "Enter any 2-digit number: 43\n",
      "Enter any 2-digit number: 36\n"
     ]
    }
   ],
   "source": [
    "for i in range(10):\n",
    "    try:\n",
    "        userInput = int(input(\"Enter any 2-digit number: \"))\n",
    "    except ValueError:\n",
    "        print('Incorrect Value Warning!')\n",
    "    number = userInput\n",
    "    user_list.append(number)\n",
    "    if number % 2 == 0:\n",
    "        list_sum += number"
   ]
  },
  {
   "cell_type": "markdown",
   "metadata": {},
   "source": [
    "##### check to see if number is even and if yes, add to list_sum\n",
    "##### print incorrect value warning  when ValueError exception occurs\n"
   ]
  },
  {
   "cell_type": "code",
   "execution_count": 3,
   "metadata": {},
   "outputs": [
    {
     "name": "stdout",
     "output_type": "stream",
     "text": [
      "user_list: [32, 23, 45, 76, 78, 97, 80, 56, 43, 36]\n",
      "The sum of the even numbers in user_list is: 358.\n"
     ]
    }
   ],
   "source": [
    "print(\"user_list: {}\".format(user_list))\n",
    "print(\"The sum of the even numbers in user_list is: {}.\".format(list_sum))"
   ]
  },
  {
   "cell_type": "code",
   "execution_count": 4,
   "metadata": {},
   "outputs": [
    {
     "data": {
      "text/plain": [
       "36"
      ]
     },
     "execution_count": 4,
     "metadata": {},
     "output_type": "execute_result"
    }
   ],
   "source": [
    "number"
   ]
  }
 ],
 "metadata": {
  "kernelspec": {
   "display_name": "Python 3",
   "language": "python",
   "name": "python3"
  },
  "language_info": {
   "codemirror_mode": {
    "name": "ipython",
    "version": 3
   },
   "file_extension": ".py",
   "mimetype": "text/x-python",
   "name": "python",
   "nbconvert_exporter": "python",
   "pygments_lexer": "ipython3",
   "version": "3.7.6"
  }
 },
 "nbformat": 4,
 "nbformat_minor": 4
}
