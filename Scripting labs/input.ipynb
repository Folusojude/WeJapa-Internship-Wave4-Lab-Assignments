{
 "cells": [
  {
   "cell_type": "code",
   "execution_count": 1,
   "metadata": {},
   "outputs": [
    {
     "name": "stdout",
     "output_type": "stream",
     "text": [
      "Input list of names: Awolola,Foluso,Jude\n",
      "Input list of the number of assignments: 2,4,5\n",
      "Input list of grades: 71,68,74\n"
     ]
    }
   ],
   "source": [
    "names=list(input('Input list of names: ').split(','))\n",
    "\n",
    "\n",
    "assignments=list(input('Input list of the number of assignments: ').split(','))\n",
    "assignments=[int(i) for i in assignments]\n",
    "\n",
    "grades=list(input('Input list of grades: ').split(','))\n",
    "grades=[int(i) for i in grades]"
   ]
  },
  {
   "cell_type": "code",
   "execution_count": 2,
   "metadata": {},
   "outputs": [],
   "source": [
    "potential_grade=[i+2*j for i,j in list(zip(grades,assignments))]"
   ]
  },
  {
   "cell_type": "code",
   "execution_count": 3,
   "metadata": {},
   "outputs": [
    {
     "name": "stdout",
     "output_type": "stream",
     "text": [
      "Hi Awolola,\n",
      "\n",
      "This is a reminder that you have 2 assignments left to submit before you can graduate. You're current grade is 71 and can increase to 75 if you submit all assignments before the due date.\n",
      "\n",
      "\n",
      "Hi Foluso,\n",
      "\n",
      "This is a reminder that you have 4 assignments left to submit before you can graduate. You're current grade is 68 and can increase to 76 if you submit all assignments before the due date.\n",
      "\n",
      "\n",
      "Hi Jude,\n",
      "\n",
      "This is a reminder that you have 5 assignments left to submit before you can graduate. You're current grade is 74 and can increase to 84 if you submit all assignments before the due date.\n",
      "\n",
      "\n"
     ]
    }
   ],
   "source": [
    "for i in range(len(names)):\n",
    "    message = \"Hi {},\\n\\nThis is a reminder that you have {} assignments left to \\\n",
    "submit before you can graduate. You're current grade is {} and can increase \\\n",
    "to {} if you submit all assignments before the due date.\\n\\n\".format(names[i],assignments[i],grades[i],potential_grade[i])\n",
    "    print(message)"
   ]
  }
 ],
 "metadata": {
  "kernelspec": {
   "display_name": "Python 3",
   "language": "python",
   "name": "python3"
  },
  "language_info": {
   "codemirror_mode": {
    "name": "ipython",
    "version": 3
   },
   "file_extension": ".py",
   "mimetype": "text/x-python",
   "name": "python",
   "nbconvert_exporter": "python",
   "pygments_lexer": "ipython3",
   "version": "3.7.6"
  }
 },
 "nbformat": 4,
 "nbformat_minor": 4
}
