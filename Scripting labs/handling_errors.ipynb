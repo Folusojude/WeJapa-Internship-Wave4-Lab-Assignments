{
 "cells": [
  {
   "cell_type": "code",
   "execution_count": 1,
   "metadata": {},
   "outputs": [],
   "source": [
    "def party_planner(cookies, people):\n",
    "    leftovers = None\n",
    "    cookies_each = None\n",
    "    \n",
    "    if cookies<people:\n",
    "        print('Cookies cannot go round. Bake more!')\n",
    "    else:\n",
    "   \n",
    "        try:\n",
    "            cookies_each = cookies // people\n",
    "            leftovers = cookies % people\n",
    "        \n",
    "        except ZeroDivisionError:\n",
    "            print('Warning! Input a different number of people')\n",
    "    return cookies_each,leftovers"
   ]
  },
  {
   "cell_type": "code",
   "execution_count": 2,
   "metadata": {},
   "outputs": [
    {
     "name": "stdout",
     "output_type": "stream",
     "text": [
      "How many cookies are you baking? 6\n",
      "How many people are attending? 8\n",
      "Cookies cannot go round. Bake more!\n",
      "\n",
      "Would you like to party more? (y or n) y\n",
      "How many cookies are you baking? 23\n",
      "How many people are attending? 8\n",
      "\n",
      "Let's party! We'll have 8 people attending, they'll each get to eat 2 cookies, and we'll have 7 left over.\n",
      "\n",
      "Would you like to party more? (y or n) y\n",
      "How many cookies are you baking? 15\n",
      "How many people are attending? 0\n",
      "Warning! Input a different number of people\n",
      "\n",
      "Would you like to party more? (y or n) n\n"
     ]
    }
   ],
   "source": [
    "lets_party = 'y'\n",
    "while lets_party == 'y':\n",
    "\n",
    "    cookies = int(input(\"How many cookies are you baking? \"))\n",
    "    people = int(input(\"How many people are attending? \"))\n",
    "\n",
    "    cookies_each, leftovers = party_planner(cookies, people)\n",
    "\n",
    "    if cookies_each:  # if cookies_each is not None\n",
    "        message = \"\\nLet's party! We'll have {} people attending, they'll each get to eat {} cookies, and we'll have {} left over.\"\n",
    "        print(message.format(people, cookies_each, leftovers))\n",
    "    lets_party = input(\"\\nWould you like to party more? (y or n) \")\n",
    "    "
   ]
  }
 ],
 "metadata": {
  "kernelspec": {
   "display_name": "Python 3",
   "language": "python",
   "name": "python3"
  },
  "language_info": {
   "codemirror_mode": {
    "name": "ipython",
    "version": 3
   },
   "file_extension": ".py",
   "mimetype": "text/x-python",
   "name": "python",
   "nbconvert_exporter": "python",
   "pygments_lexer": "ipython3",
   "version": "3.7.6"
  }
 },
 "nbformat": 4,
 "nbformat_minor": 4
}
