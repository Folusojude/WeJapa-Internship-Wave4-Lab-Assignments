{
 "cells": [
  {
   "cell_type": "code",
   "execution_count": 1,
   "metadata": {},
   "outputs": [
    {
     "name": "stdout",
     "output_type": "stream",
     "text": [
      "Enter your First [space] Last name only: Bill Newman\n"
     ]
    }
   ],
   "source": [
    "name=input('Enter your First [space] Last name only: ')"
   ]
  },
  {
   "cell_type": "code",
   "execution_count": 2,
   "metadata": {},
   "outputs": [],
   "source": [
    "def get_flower(name):\n",
    "    a=open('flowers.txt').readlines()\n",
    "    b={x:y for x,y in (i.split(':') for i in a)}\n",
    "    for k,v in b.items():\n",
    "        if name[0]==k:\n",
    "            get_flower=v\n",
    "            \n",
    "    return get_flower"
   ]
  },
  {
   "cell_type": "code",
   "execution_count": 3,
   "metadata": {},
   "outputs": [
    {
     "name": "stdout",
     "output_type": "stream",
     "text": [
      "Unique flower name with the first letter:  Bellflower\n",
      "\n"
     ]
    }
   ],
   "source": [
    "print('Unique flower name with the first letter: {}'.format(get_flower(name)))"
   ]
  }
 ],
 "metadata": {
  "kernelspec": {
   "display_name": "Python 3",
   "language": "python",
   "name": "python3"
  },
  "language_info": {
   "codemirror_mode": {
    "name": "ipython",
    "version": 3
   },
   "file_extension": ".py",
   "mimetype": "text/x-python",
   "name": "python",
   "nbconvert_exporter": "python",
   "pygments_lexer": "ipython3",
   "version": "3.7.6"
  }
 },
 "nbformat": 4,
 "nbformat_minor": 4
}
